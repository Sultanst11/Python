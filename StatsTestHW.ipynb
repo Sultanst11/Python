{
 "cells": [
  {
   "cell_type": "code",
   "execution_count": 1,
   "id": "5f7bb041-3c93-4448-a495-b45639892e0f",
   "metadata": {},
   "outputs": [],
   "source": [
    "import pandas as pd\n",
    "from scipy.stats import mannwhitneyu, kstest, shapiro, ks_2samp\n",
    "import matplotlib.pyplot as plt"
   ]
  },
  {
   "cell_type": "markdown",
   "id": "e6f33176-84bc-4425-b6f2-afea1de0c6d8",
   "metadata": {},
   "source": [
    "#### Задание 1\n",
    "Вам подготовили датасет в файле compare_df.csv<br>\n",
    "В нем есть всего две колонки sample1 и sample2<br>\n",
    "Проведите Mann U Whitney тест чтобы проверить, идентично ли распределение двух этих сэмплов с уровнем значимости в 95%"
   ]
  },
  {
   "cell_type": "code",
   "execution_count": 2,
   "id": "4cd4f00e-4764-448c-a7f1-1d79d9f5c727",
   "metadata": {},
   "outputs": [
    {
     "name": "stdout",
     "output_type": "stream",
     "text": [
      "\n",
      "Mann Whitney U  тест результаты:\n",
      "U Statistic: 4409.0\n",
      "P-Value: 0.14907086303735595\n",
      "\n",
      "Не отклоняем H0: выборки похожи (различия незначимы)\n"
     ]
    }
   ],
   "source": [
    "df = pd.read_csv(\"compare_df.csv\")\n",
    "sample1 = df[\"sample1\"].dropna()\n",
    "sample2 = df[\"sample2\"].dropna()\n",
    "\n",
    "u_stat, p_value = mannwhitneyu(sample1, sample2, alternative=\"two-sided\")\n",
    "\n",
    "print(\"\\nMann Whitney U  тест результаты:\")\n",
    "print(\"U Statistic:\", u_stat)\n",
    "print(\"P-Value:\", p_value)\n",
    "\n",
    "alpha = 0.05\n",
    "if p_value < alpha:\n",
    "    print(\"\\nОтклоняем H0: выборки имеют различия\") \n",
    "else: \n",
    "    print(\"\\nНе отклоняем H0: выборки похожи (различия незначимы)\")"
   ]
  },
  {
   "cell_type": "markdown",
   "id": "ca92d9d6-0bb7-4e99-8b9b-4397dffa2115",
   "metadata": {},
   "source": [
    "#### Задание 2\n",
    "Используя те же самые два сэмпла из compare_df, проведите Kolmogorov Smirnov тест для проверки идентичности распределений"
   ]
  },
  {
   "cell_type": "code",
   "execution_count": 3,
   "id": "d5199cee-207f-48ef-a56a-c7e03a287117",
   "metadata": {},
   "outputs": [
    {
     "name": "stdout",
     "output_type": "stream",
     "text": [
      "\n",
      "Kolmogorov-Smirnov тест результаты:\n",
      "KS Statistic: 0.2\n",
      "P-Value: 0.03638428787491733\n",
      "\n",
      "Отклоняем H0: выборки имеют различия\n"
     ]
    }
   ],
   "source": [
    "ks_stat, p_value = ks_2samp(sample1, sample2)\n",
    "\n",
    "print(\"\\nKolmogorov-Smirnov тест результаты:\")\n",
    "print(\"KS Statistic:\", ks_stat)\n",
    "print(\"P-Value:\", p_value)\n",
    "\n",
    "alpha = 0.05\n",
    "if p_value < alpha:\n",
    "    print(\"\\nОтклоняем H0: выборки имеют различия\") \n",
    "else: \n",
    "    print(\"\\nНе отклоняем H0: выборки похожи (различия незначимы)\")"
   ]
  },
  {
   "cell_type": "markdown",
   "id": "33aa9739-8730-4336-a8ba-bca0db03b9f2",
   "metadata": {},
   "source": [
    "#### Задание 3\n",
    "Вам подготовили датасет в файле normality_test.csv<br>\n",
    "В нем всего одна колонка sample<br>\n",
    "Проведите Kolmogorov Smirnov тест, чтобы проверить нормальность данных с уровнем значимости в 95%"
   ]
  },
  {
   "cell_type": "code",
   "execution_count": 4,
   "id": "8315d01d-041c-4a8b-b4da-1d138131ccb4",
   "metadata": {},
   "outputs": [
    {
     "name": "stdout",
     "output_type": "stream",
     "text": [
      "\n",
      "Kolmogorov-Smirnov тест результаты:\n",
      "KS Statistic: 0.07499032606051859\n",
      "P-Value: 0.6005122445499748\n",
      "\n",
      "Не отклоняем H0: данные можно считать нормальными\n"
     ]
    }
   ],
   "source": [
    "df2 = pd.read_csv(\"normality_test.csv\")\n",
    "\n",
    "sample = df2['sample'].dropna()\n",
    "\n",
    "mean = sample.mean()\n",
    "std = sample.std()\n",
    "\n",
    "ks_stat, p_value = kstest(sample, \"norm\", args=(mean, std))\n",
    "\n",
    "print(\"\\nKolmogorov-Smirnov тест результаты:\")\n",
    "print(\"KS Statistic:\", ks_stat)\n",
    "print(\"P-Value:\", p_value)\n",
    "\n",
    "alpha = 0.05\n",
    "if p_value < alpha:\n",
    "    print(\"\\nОтклоняем H0: данные не распределены нормально\") \n",
    "else: \n",
    "    print(\"\\nНе отклоняем H0: данные можно считать нормальными\")"
   ]
  },
  {
   "cell_type": "markdown",
   "id": "b9d33652-9757-4414-bb77-ea792e404f71",
   "metadata": {},
   "source": [
    "#### Задание 4\n",
    "Используя те же самые данные, проведите тест на нормальность используя Shapiro Wilk тест<br>\n",
    "Какому тесту (ШапироУилк или КолмогоровСмирнов) вы доверяете больше и чей результат выберите?"
   ]
  },
  {
   "cell_type": "code",
   "execution_count": 5,
   "id": "7d1671f1-2634-41c9-95fc-279580b27d91",
   "metadata": {},
   "outputs": [
    {
     "name": "stdout",
     "output_type": "stream",
     "text": [
      "\n",
      "Shapiro-Wilk тест результаты:\n",
      "Shapiro-Wilk  Statistic: 0.9873178475101589\n",
      "P-Value: 0.4593473966517135\n",
      "\n",
      "Не отклоняем H0: данные можно считать нормальными\n",
      "\n",
      "Выбираю Shapiro-Wilk\n"
     ]
    }
   ],
   "source": [
    "sw_stat, p_value = shapiro(sample)\n",
    "\n",
    "print(\"\\nShapiro-Wilk тест результаты:\")\n",
    "print(\"Shapiro-Wilk  Statistic:\", sw_stat)\n",
    "print(\"P-Value:\", p_value)\n",
    "\n",
    "alpha = 0.05\n",
    "if p_value < alpha:\n",
    "    print(\"\\nОтклоняем H0: данные не распределены нормально\") \n",
    "else: \n",
    "    print(\"\\nНе отклоняем H0: данные можно считать нормальными\")\n",
    "\n",
    "print(\"\\nВыбираю Shapiro-Wilk\")"
   ]
  },
  {
   "cell_type": "code",
   "execution_count": null,
   "id": "0ea715be-9297-40e0-ae47-0280db74277a",
   "metadata": {},
   "outputs": [],
   "source": []
  }
 ],
 "metadata": {
  "kernelspec": {
   "display_name": "Python [conda env:base] *",
   "language": "python",
   "name": "conda-base-py"
  },
  "language_info": {
   "codemirror_mode": {
    "name": "ipython",
    "version": 3
   },
   "file_extension": ".py",
   "mimetype": "text/x-python",
   "name": "python",
   "nbconvert_exporter": "python",
   "pygments_lexer": "ipython3",
   "version": "3.13.5"
  }
 },
 "nbformat": 4,
 "nbformat_minor": 5
}
