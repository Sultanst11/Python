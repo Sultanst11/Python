{
 "cells": [
  {
   "cell_type": "markdown",
   "id": "74b5d472",
   "metadata": {},
   "source": [
    "# Мини проект 1"
   ]
  },
  {
   "cell_type": "markdown",
   "id": "cc4f6ca8",
   "metadata": {},
   "source": [
    "Вам дан файл users.txt. Вы должны сделать следующие действия:\n",
    "\n",
    "1) Прочитать этот файл построчно. Пожалуйста, используйте для этого try catch. Если файл не найден, напечатайте следующий текст: «the file that you would like to read is not found». Для любых других ошибок, пожалуйста, напечатайте следующее сообщение: \"some error occured\"\n",
    "     \n",
    "     \n",
    "2) Создайте класс Users со следующими атрибутами и функциями:\n",
    "\n",
    "     a) имя\n",
    "     \n",
    "     b) фамилия\n",
    "     \n",
    "     c) год рождения\n",
    "     \n",
    "     d) адрес электронной почты\n",
    "     \n",
    "     e) getAge(): возвращает возраст пользователя, принимая во внимание, что текущий год 2023\n",
    "     \n",
    "     \n",
    "3) преобразовать каждую строку файла в объект класса Users и сохранить их все в списке. Чтобы разделить слова, разделенные запятой, используйте функцию split(). Например, если: s = \"a,b,c\", тогда t = s.split(',') вернет ['a', 'b', 'c']. Таким образом разделите данные в каждой строке на отдельные части и присвойте эти значения атрибутам класса «Users».\n",
    "\n",
    "\n",
    "4) написать функцию filter(low, high, users), которая будет принимать параметры по умолчанию \"low\"=30, \"high\"=50 и простой параметр - список объектов класса Users. Функция должна пройтись по всем пользователям и проверить возраст с параметрами low и high. Мы должны вернуть только тех пользователей, чей возраст выше нижнего параметра low и ниже верхнего параметра high. Распечатайте их адрес электронной почты и возраст. Пожалуйста, разделите данные (адрес электронной почты и возраст) запятой. Затем вызовите эту функцию."
   ]
  },
  {
   "cell_type": "code",
   "execution_count": 20,
   "id": "1606eb41-3c09-49fe-8b36-6ac859f54439",
   "metadata": {},
   "outputs": [
    {
     "name": "stdin",
     "output_type": "stream",
     "text": [
      "Введите название файла:  users.txt\n"
     ]
    },
    {
     "name": "stdout",
     "output_type": "stream",
     "text": [
      "1,Magzhan,Kairanbay,magzhan.kairanbay@gmail.com,1991\n",
      "2,John,See,john.see@gmail.com,1981\n",
      "3,Lim,Kim,lim.kim@gmail.com,1997\n",
      "4,Andrew,Ng,andrew.ng@gmail.com,1971\n",
      "5,Andrey,Karpathy,andrey.karpathy@gmail.com,1981\n",
      "6,Jackie,Chan,jeckie.chan@gmail.com,1951\n",
      "7,Clarence,Lim,clarence.lim@gmail.com,1985\n",
      "8,Ryan,Jack,ryan.jack@gmail.com,1994\n",
      "9,Jonattan,Clark,jonattan.clark@gmail.com,2000\n",
      "10,Chris,Brown,chris.brown@gmail.com,1989\n",
      "11,Justin,Bieber,justin.bieber@gmail.com,1992\n"
     ]
    }
   ],
   "source": [
    "filename = input('Введите название файла: ')\n",
    "\n",
    "try:\n",
    "    with open(filename, 'r') as file:\n",
    "        for i in file:\n",
    "            print(i.strip())\n",
    "except FileNotFoundError:\n",
    "    print(\"the file that you would like to read is not found\")\n",
    "except Exception:\n",
    "    print(\"Some error occurred.\")"
   ]
  },
  {
   "cell_type": "code",
   "execution_count": 13,
   "id": "1e16fb19-d02e-4c98-91c1-960c38930248",
   "metadata": {},
   "outputs": [],
   "source": [
    "class Users:\n",
    "    def __init__(self, first_name, last_name, email, birth_year):\n",
    "        self.first_name = first_name\n",
    "        self.last_name = last_name\n",
    "        self.email = email\n",
    "        self.birth_year = int(birth_year)\n",
    "\n",
    "    def getAge(self):\n",
    "        return 2023  - self.birth_year\n",
    "        "
   ]
  },
  {
   "cell_type": "code",
   "execution_count": 14,
   "id": "33f58e68-c554-44a1-b819-34ea07397fbd",
   "metadata": {},
   "outputs": [],
   "source": [
    "users_list = []\n",
    "\n",
    "with open('users.txt', 'r') as file:\n",
    "    for f in file:\n",
    "        parts = f.strip().split(',')\n",
    "        if len(parts) == 5:\n",
    "            user = Users(parts[1], parts[2], parts[3], parts[4])\n",
    "            users_list.append(user)"
   ]
  },
  {
   "cell_type": "code",
   "execution_count": 13,
   "id": "422a1b9a-27f9-490b-a038-790eb8c16943",
   "metadata": {},
   "outputs": [],
   "source": [
    "def filter(low=30, high = 50, users=None):\n",
    "    if users is None:\n",
    "        users = []\n",
    "    for u in users:\n",
    "        age = u.getAge()\n",
    "        if low < age < high:\n",
    "            print(f\"{u.email}, {age}\")"
   ]
  },
  {
   "cell_type": "code",
   "execution_count": 16,
   "id": "743ddf05-dc92-4755-a04a-72c0c38707b7",
   "metadata": {},
   "outputs": [
    {
     "name": "stdout",
     "output_type": "stream",
     "text": [
      "magzhan.kairanbay@gmail.com, 32\n",
      "john.see@gmail.com, 42\n",
      "andrey.karpathy@gmail.com, 42\n",
      "clarence.lim@gmail.com, 38\n",
      "chris.brown@gmail.com, 34\n",
      "justin.bieber@gmail.com, 31\n"
     ]
    }
   ],
   "source": [
    "filter(users=users_list)"
   ]
  },
  {
   "cell_type": "code",
   "execution_count": null,
   "id": "77b58212-5c29-4b11-a6a3-091e1d5ada37",
   "metadata": {},
   "outputs": [],
   "source": []
  },
  {
   "cell_type": "code",
   "execution_count": null,
   "id": "67c01b56-ccea-45c5-8141-9bfd65b0d280",
   "metadata": {},
   "outputs": [],
   "source": []
  }
 ],
 "metadata": {
  "kernelspec": {
   "display_name": "Python [conda env:base] *",
   "language": "python",
   "name": "conda-base-py"
  },
  "language_info": {
   "codemirror_mode": {
    "name": "ipython",
    "version": 3
   },
   "file_extension": ".py",
   "mimetype": "text/x-python",
   "name": "python",
   "nbconvert_exporter": "python",
   "pygments_lexer": "ipython3",
   "version": "3.13.5"
  }
 },
 "nbformat": 4,
 "nbformat_minor": 5
}
